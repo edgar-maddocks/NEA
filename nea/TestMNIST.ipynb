{
 "cells": [
  {
   "cell_type": "code",
   "execution_count": 23,
   "metadata": {},
   "outputs": [],
   "source": [
    "import os\n",
    "import sys\n",
    "import gc\n",
    "\n",
    "from tensorflow import keras\n",
    "import numpy as np\n",
    "from tqdm import tqdm\n",
    "\n",
    "from nea.ml.nn import (\n",
    "    Module,\n",
    "    Conv2D,\n",
    "    Dense,\n",
    "    ReLU,\n",
    "    Tanh,\n",
    "    Reshape,\n",
    "    MinMaxNormalization,\n",
    "    SGD,\n",
    "    MSE,\n",
    "    Softmax,\n",
    "    Sigmoid,\n",
    "    CrossEntropy,\n",
    ")\n",
    "from nea.ml.autograd import Tensor, no_grad"
   ]
  },
  {
   "cell_type": "code",
   "execution_count": 24,
   "metadata": {},
   "outputs": [
    {
     "name": "stdout",
     "output_type": "stream",
     "text": [
      "(60000, 1, 28, 28) (10000, 1, 28, 28)\n",
      "((60000, 10), (10000, 10))\n"
     ]
    }
   ],
   "source": [
    "(X_train, y_train), (X_test, y_test) = keras.datasets.mnist.load_data()\n",
    "\n",
    "\"\"\"train_filter = np.where((y_train == 0) | (y_train == 4))\n",
    "test_filter = np.where((y_test == 0) | (y_test == 4))\n",
    "\n",
    "X_train, y_train = X_train[train_filter], y_train[train_filter]\n",
    "X_test, y_test = X_test[test_filter], y_test[test_filter]\"\"\"\n",
    "\n",
    "y_train = keras.utils.to_categorical(y_train)\n",
    "y_test = keras.utils.to_categorical(y_test)\n",
    "\n",
    "X_train, X_test = X_train / 255.0, X_test / 255.0\n",
    "X_train, X_test = (\n",
    "    X_train.reshape(X_train.shape[0], 1, X_train.shape[1], X_train.shape[2]),\n",
    "    X_test.reshape(X_test.shape[0], 1, X_test.shape[1], X_test.shape[2]),\n",
    ")\n",
    "\n",
    "print(X_train.shape, X_test.shape)\n",
    "print((y_train.shape, y_test.shape))"
   ]
  },
  {
   "cell_type": "code",
   "execution_count": 25,
   "metadata": {},
   "outputs": [],
   "source": [
    "class MNISTER(Module):\n",
    "    def __init__(self):\n",
    "        super().__init__()\n",
    "        self.conv2d_1 = Conv2D(X_train.shape[1:], 9, 5)\n",
    "        self.sigmoid_1 = Sigmoid()\n",
    "        self.reshape_1 = Reshape((1, 2000))\n",
    "        self.dense_1 = Dense(2000, 784)\n",
    "        self.sigmoid_2 = Sigmoid()\n",
    "        self.dense_2 = Dense(784, 256)\n",
    "        self.sigmoid_3 = Sigmoid()\n",
    "        self.dense_3 = Dense(256, 10)\n",
    "        self.softmax = Softmax()\n",
    "\n",
    "    def forward(self, x_sample: Tensor) -> Tensor:\n",
    "        out = self.conv2d_1(x_sample)\n",
    "        out = self.sigmoid_1(out)\n",
    "        out = self.reshape_1(out)\n",
    "        out = self.dense_1(out)\n",
    "        out = self.sigmoid_2(out)\n",
    "        out = self.dense_2(out)\n",
    "        out = self.sigmoid_3(out)\n",
    "        out = self.dense_3(out)\n",
    "        out = self.softmax(out)\n",
    "        return out\n",
    "\n",
    "    def __call__(self, x_sample: Tensor) -> Tensor:\n",
    "        return self.forward(x_sample)"
   ]
  },
  {
   "cell_type": "code",
   "execution_count": 26,
   "metadata": {},
   "outputs": [],
   "source": [
    "model = MNISTER()\n",
    "optim = SGD(model.params, lr=0.01, regulization=0)\n",
    "loss_func = CrossEntropy()\n",
    "\n",
    "epochs = 3"
   ]
  },
  {
   "cell_type": "code",
   "execution_count": 27,
   "metadata": {},
   "outputs": [
    {
     "name": "stdout",
     "output_type": "stream",
     "text": [
      "Pred: 5. True: 7\n",
      "Pred: 5. True: 2\n",
      "Pred: 5. True: 1\n",
      "Pred: 5. True: 0\n",
      "Pred: 5. True: 4\n"
     ]
    },
    {
     "ename": "KeyboardInterrupt",
     "evalue": "",
     "output_type": "error",
     "traceback": [
      "\u001b[0;31m---------------------------------------------------------------------------\u001b[0m",
      "\u001b[0;31mKeyboardInterrupt\u001b[0m                         Traceback (most recent call last)",
      "Cell \u001b[0;32mIn[27], line 10\u001b[0m\n\u001b[1;32m      8\u001b[0m \u001b[38;5;28;01mfor\u001b[39;00m x \u001b[38;5;129;01min\u001b[39;00m \u001b[38;5;28mrange\u001b[39m(\u001b[38;5;241m0\u001b[39m, X_test\u001b[38;5;241m.\u001b[39mshape[\u001b[38;5;241m0\u001b[39m]):\n\u001b[1;32m      9\u001b[0m     \u001b[38;5;28;01mwith\u001b[39;00m no_grad():\n\u001b[0;32m---> 10\u001b[0m         pred \u001b[38;5;241m=\u001b[39m \u001b[43mmodel\u001b[49m\u001b[43m(\u001b[49m\u001b[43mX_test\u001b[49m\u001b[43m[\u001b[49m\u001b[43mx\u001b[49m\u001b[43m]\u001b[49m\u001b[43m)\u001b[49m\n\u001b[1;32m     11\u001b[0m         preds\u001b[38;5;241m.\u001b[39mappend(np\u001b[38;5;241m.\u001b[39margmax(pred\u001b[38;5;241m.\u001b[39mdata))\n\u001b[1;32m     13\u001b[0m accuracy \u001b[38;5;241m=\u001b[39m np\u001b[38;5;241m.\u001b[39marray((preds \u001b[38;5;241m==\u001b[39m trues))\u001b[38;5;241m.\u001b[39mastype(\u001b[38;5;28mint\u001b[39m)\n",
      "Cell \u001b[0;32mIn[25], line 27\u001b[0m, in \u001b[0;36mMNISTER.__call__\u001b[0;34m(self, x_sample)\u001b[0m\n\u001b[1;32m     26\u001b[0m \u001b[38;5;28;01mdef\u001b[39;00m\u001b[38;5;250m \u001b[39m\u001b[38;5;21m__call__\u001b[39m(\u001b[38;5;28mself\u001b[39m, x_sample: Tensor) \u001b[38;5;241m-\u001b[39m\u001b[38;5;241m>\u001b[39m Tensor:\n\u001b[0;32m---> 27\u001b[0m     \u001b[38;5;28;01mreturn\u001b[39;00m \u001b[38;5;28;43mself\u001b[39;49m\u001b[38;5;241;43m.\u001b[39;49m\u001b[43mforward\u001b[49m\u001b[43m(\u001b[49m\u001b[43mx_sample\u001b[49m\u001b[43m)\u001b[49m\n",
      "Cell \u001b[0;32mIn[25], line 18\u001b[0m, in \u001b[0;36mMNISTER.forward\u001b[0;34m(self, x_sample)\u001b[0m\n\u001b[1;32m     16\u001b[0m out \u001b[38;5;241m=\u001b[39m \u001b[38;5;28mself\u001b[39m\u001b[38;5;241m.\u001b[39msigmoid_1(out)\n\u001b[1;32m     17\u001b[0m out \u001b[38;5;241m=\u001b[39m \u001b[38;5;28mself\u001b[39m\u001b[38;5;241m.\u001b[39mreshape_1(out)\n\u001b[0;32m---> 18\u001b[0m out \u001b[38;5;241m=\u001b[39m \u001b[38;5;28;43mself\u001b[39;49m\u001b[38;5;241;43m.\u001b[39;49m\u001b[43mdense_1\u001b[49m\u001b[43m(\u001b[49m\u001b[43mout\u001b[49m\u001b[43m)\u001b[49m\n\u001b[1;32m     19\u001b[0m out \u001b[38;5;241m=\u001b[39m \u001b[38;5;28mself\u001b[39m\u001b[38;5;241m.\u001b[39msigmoid_2(out)\n\u001b[1;32m     20\u001b[0m out \u001b[38;5;241m=\u001b[39m \u001b[38;5;28mself\u001b[39m\u001b[38;5;241m.\u001b[39mdense_2(out)\n",
      "File \u001b[0;32m/mnt/c/Users/edgar/Documents/GitHub/NEA/nea/ml/nn/layers.py:40\u001b[0m, in \u001b[0;36mModule.__call__\u001b[0;34m(self, x)\u001b[0m\n\u001b[1;32m     39\u001b[0m \u001b[38;5;28;01mdef\u001b[39;00m\u001b[38;5;250m \u001b[39m\u001b[38;5;21m__call__\u001b[39m(\u001b[38;5;28mself\u001b[39m, x: Tensorable) \u001b[38;5;241m-\u001b[39m\u001b[38;5;241m>\u001b[39m Tensor:\n\u001b[0;32m---> 40\u001b[0m     \u001b[38;5;28;01mreturn\u001b[39;00m \u001b[38;5;28;43mself\u001b[39;49m\u001b[38;5;241;43m.\u001b[39;49m\u001b[43mforward\u001b[49m\u001b[43m(\u001b[49m\u001b[43mto_tensor\u001b[49m\u001b[43m(\u001b[49m\u001b[43mx\u001b[49m\u001b[43m)\u001b[49m\u001b[43m)\u001b[49m\n",
      "File \u001b[0;32m/mnt/c/Users/edgar/Documents/GitHub/NEA/nea/ml/nn/layers.py:147\u001b[0m, in \u001b[0;36mDense.forward\u001b[0;34m(self, x)\u001b[0m\n\u001b[1;32m    138\u001b[0m \u001b[38;5;28;01mdef\u001b[39;00m\u001b[38;5;250m \u001b[39m\u001b[38;5;21mforward\u001b[39m(\u001b[38;5;28mself\u001b[39m, x: Tensorable) \u001b[38;5;241m-\u001b[39m\u001b[38;5;241m>\u001b[39m Tensor:\n\u001b[1;32m    139\u001b[0m \u001b[38;5;250m    \u001b[39m\u001b[38;5;124;03m\"\"\"Propogates input data through dense layer\u001b[39;00m\n\u001b[1;32m    140\u001b[0m \n\u001b[1;32m    141\u001b[0m \u001b[38;5;124;03m    Args:\u001b[39;00m\n\u001b[0;32m   (...)\u001b[0m\n\u001b[1;32m    145\u001b[0m \u001b[38;5;124;03m        Tensor:\u001b[39;00m\n\u001b[1;32m    146\u001b[0m \u001b[38;5;124;03m    \"\"\"\u001b[39;00m\n\u001b[0;32m--> 147\u001b[0m     y \u001b[38;5;241m=\u001b[39m \u001b[43mx\u001b[49m\u001b[43m \u001b[49m\u001b[38;5;241;43m@\u001b[39;49m\u001b[43m \u001b[49m\u001b[38;5;28;43mself\u001b[39;49m\u001b[38;5;241;43m.\u001b[39;49m\u001b[43mweights\u001b[49m\n\u001b[1;32m    148\u001b[0m     \u001b[38;5;28;01mif\u001b[39;00m \u001b[38;5;28mself\u001b[39m\u001b[38;5;241m.\u001b[39mbias:\n\u001b[1;32m    149\u001b[0m         y \u001b[38;5;241m=\u001b[39m y \u001b[38;5;241m+\u001b[39m \u001b[38;5;28mself\u001b[39m\u001b[38;5;241m.\u001b[39mbias\n",
      "File \u001b[0;32m/mnt/c/Users/edgar/Documents/GitHub/NEA/nea/ml/autograd/tensor.py:208\u001b[0m, in \u001b[0;36mTensor.__matmul__\u001b[0;34m(self, other)\u001b[0m\n\u001b[1;32m    206\u001b[0m \u001b[38;5;28;01mdef\u001b[39;00m\u001b[38;5;250m \u001b[39m\u001b[38;5;21m__matmul__\u001b[39m(\u001b[38;5;28mself\u001b[39m, other: Tensorable) \u001b[38;5;241m-\u001b[39m\u001b[38;5;241m>\u001b[39m Tensor:\n\u001b[1;32m    207\u001b[0m     matmul_op \u001b[38;5;241m=\u001b[39m MatrixMultiplication()\n\u001b[0;32m--> 208\u001b[0m     \u001b[38;5;28;01mreturn\u001b[39;00m \u001b[43mmatmul_op\u001b[49m\u001b[38;5;241;43m.\u001b[39;49m\u001b[43mforward\u001b[49m\u001b[43m(\u001b[49m\u001b[38;5;28;43mself\u001b[39;49m\u001b[43m,\u001b[49m\u001b[43m \u001b[49m\u001b[43mto_tensor\u001b[49m\u001b[43m(\u001b[49m\u001b[43mother\u001b[49m\u001b[43m)\u001b[49m\u001b[43m)\u001b[49m\n",
      "File \u001b[0;32m/mnt/c/Users/edgar/Documents/GitHub/NEA/nea/ml/autograd/tensor.py:640\u001b[0m, in \u001b[0;36mMatrixMultiplication.forward\u001b[0;34m(self, a, b)\u001b[0m\n\u001b[1;32m    636\u001b[0m new_data \u001b[38;5;241m=\u001b[39m a\u001b[38;5;241m.\u001b[39mdata \u001b[38;5;241m@\u001b[39m b\u001b[38;5;241m.\u001b[39mdata\n\u001b[1;32m    638\u001b[0m requires_grad \u001b[38;5;241m=\u001b[39m a\u001b[38;5;241m.\u001b[39mrequires_grad \u001b[38;5;129;01mor\u001b[39;00m b\u001b[38;5;241m.\u001b[39mrequires_grad\n\u001b[0;32m--> 640\u001b[0m y \u001b[38;5;241m=\u001b[39m \u001b[43mTensor\u001b[49m\u001b[43m(\u001b[49m\u001b[43mnew_data\u001b[49m\u001b[43m,\u001b[49m\u001b[43m \u001b[49m\u001b[43mrequires_grad\u001b[49m\u001b[38;5;241;43m=\u001b[39;49m\u001b[43mrequires_grad\u001b[49m\u001b[43m,\u001b[49m\u001b[43m \u001b[49m\u001b[43moperation\u001b[49m\u001b[38;5;241;43m=\u001b[39;49m\u001b[38;5;28;43mself\u001b[39;49m\u001b[43m)\u001b[49m\n\u001b[1;32m    642\u001b[0m \u001b[38;5;28;01mif\u001b[39;00m is_grad_enabled():\n\u001b[1;32m    643\u001b[0m     \u001b[38;5;28mself\u001b[39m\u001b[38;5;241m.\u001b[39mparents \u001b[38;5;241m=\u001b[39m (a, b)\n",
      "File \u001b[0;32m/mnt/c/Users/edgar/Documents/GitHub/NEA/nea/ml/autograd/tensor.py:66\u001b[0m, in \u001b[0;36mTensor.__init__\u001b[0;34m(self, data, requires_grad, operation)\u001b[0m\n\u001b[1;32m     59\u001b[0m \u001b[38;5;28;01mclass\u001b[39;00m\u001b[38;5;250m \u001b[39m\u001b[38;5;21;01mTensor\u001b[39;00m:\n\u001b[1;32m     60\u001b[0m \u001b[38;5;250m    \u001b[39m\u001b[38;5;124;03m\"\"\"\u001b[39;00m\n\u001b[1;32m     61\u001b[0m \u001b[38;5;124;03m    ====================\u001b[39;00m\n\u001b[1;32m     62\u001b[0m \u001b[38;5;124;03m        Tensor class\u001b[39;00m\n\u001b[1;32m     63\u001b[0m \u001b[38;5;124;03m    ====================\u001b[39;00m\n\u001b[1;32m     64\u001b[0m \u001b[38;5;124;03m    \"\"\"\u001b[39;00m\n\u001b[0;32m---> 66\u001b[0m     \u001b[38;5;28;01mdef\u001b[39;00m\u001b[38;5;250m \u001b[39m\u001b[38;5;21m__init__\u001b[39m(\n\u001b[1;32m     67\u001b[0m         \u001b[38;5;28mself\u001b[39m,\n\u001b[1;32m     68\u001b[0m         data: Tensorable,\n\u001b[1;32m     69\u001b[0m         requires_grad: \u001b[38;5;28mbool\u001b[39m \u001b[38;5;241m=\u001b[39m \u001b[38;5;28;01mFalse\u001b[39;00m,\n\u001b[1;32m     70\u001b[0m         operation: TensorFunction \u001b[38;5;241m=\u001b[39m \u001b[38;5;28;01mNone\u001b[39;00m,\n\u001b[1;32m     71\u001b[0m     ) \u001b[38;5;241m-\u001b[39m\u001b[38;5;241m>\u001b[39m \u001b[38;5;28;01mNone\u001b[39;00m:\n\u001b[1;32m     72\u001b[0m         \u001b[38;5;28mself\u001b[39m\u001b[38;5;241m.\u001b[39m_data: np\u001b[38;5;241m.\u001b[39mndarray \u001b[38;5;241m=\u001b[39m np\u001b[38;5;241m.\u001b[39marray(data)\n\u001b[1;32m     73\u001b[0m         \u001b[38;5;28mself\u001b[39m\u001b[38;5;241m.\u001b[39mshape \u001b[38;5;241m=\u001b[39m \u001b[38;5;28mself\u001b[39m\u001b[38;5;241m.\u001b[39m_data\u001b[38;5;241m.\u001b[39mshape\n",
      "\u001b[0;31mKeyboardInterrupt\u001b[0m: "
     ]
    }
   ],
   "source": [
    "for x in range(0, 5):\n",
    "    pred = model(X_test[x])\n",
    "    print(f\"Pred: {np.argmax(pred.data)}. True: {np.argmax(y_test[x])}\")\n",
    "\n",
    "trues = np.argmax(y_test, axis=-1)\n",
    "\n",
    "preds = []\n",
    "for x in range(0, X_test.shape[0]):\n",
    "    with no_grad():\n",
    "        pred = model(X_test[x])\n",
    "        preds.append(np.argmax(pred.data))\n",
    "\n",
    "accuracy = np.array((preds == trues)).astype(int)\n",
    "\n",
    "pct_score = accuracy.mean() * 100\n",
    "\n",
    "print(f\"Dataset Percentage Accuracy: {pct_score}\")"
   ]
  },
  {
   "cell_type": "code",
   "execution_count": 11,
   "metadata": {},
   "outputs": [
    {
     "name": "stdout",
     "output_type": "stream",
     "text": [
      "---------EPOCH: 1------------\n"
     ]
    },
    {
     "name": "stderr",
     "output_type": "stream",
     "text": [
      "100%|██████████| 60000/60000 [25:07<00:00, 39.80it/s]  \n",
      "100%|██████████| 10000/10000 [00:09<00:00, 1043.65it/s]\n"
     ]
    },
    {
     "name": "stdout",
     "output_type": "stream",
     "text": [
      "TEST LOSS: Tensor([0.31069473], shape = (1,))\n",
      "Pred: 7. True: 7\n",
      "Pred: 2. True: 2\n",
      "Pred: 1. True: 1\n",
      "Pred: 0. True: 0\n",
      "Pred: 4. True: 4\n",
      "---------EPOCH: 2------------\n"
     ]
    },
    {
     "name": "stderr",
     "output_type": "stream",
     "text": [
      " 18%|█▊        | 10530/60000 [04:24<20:42, 39.81it/s]  \n"
     ]
    },
    {
     "ename": "KeyboardInterrupt",
     "evalue": "",
     "output_type": "error",
     "traceback": [
      "\u001b[0;31m---------------------------------------------------------------------------\u001b[0m",
      "\u001b[0;31mKeyboardInterrupt\u001b[0m                         Traceback (most recent call last)",
      "Cell \u001b[0;32mIn[11], line 9\u001b[0m\n\u001b[1;32m      7\u001b[0m     loss \u001b[38;5;241m=\u001b[39m loss_func(pred\u001b[38;5;241m.\u001b[39mreshape((\u001b[38;5;241m10\u001b[39m, \u001b[38;5;241m1\u001b[39m)), Tensor(y_train[sample]\u001b[38;5;241m.\u001b[39mreshape(\u001b[38;5;241m10\u001b[39m, \u001b[38;5;241m1\u001b[39m)))\n\u001b[1;32m      8\u001b[0m     loss\u001b[38;5;241m.\u001b[39mbackward()\n\u001b[0;32m----> 9\u001b[0m     \u001b[43moptim\u001b[49m\u001b[38;5;241;43m.\u001b[39;49m\u001b[43mstep\u001b[49m\u001b[43m(\u001b[49m\u001b[43m)\u001b[49m\n\u001b[1;32m     10\u001b[0m     optim\u001b[38;5;241m.\u001b[39mzero_grad()\n\u001b[1;32m     12\u001b[0m gc\u001b[38;5;241m.\u001b[39mcollect()\n",
      "File \u001b[0;32m/mnt/c/Users/edgar/Documents/GitHub/NEA/nea/ml/nn/optimizers.py:43\u001b[0m, in \u001b[0;36mSGD.step\u001b[0;34m(self)\u001b[0m\n\u001b[1;32m     41\u001b[0m \u001b[38;5;28;01mdef\u001b[39;00m\u001b[38;5;250m \u001b[39m\u001b[38;5;21mstep\u001b[39m(\u001b[38;5;28mself\u001b[39m) \u001b[38;5;241m-\u001b[39m\u001b[38;5;241m>\u001b[39m \u001b[38;5;28;01mNone\u001b[39;00m:\n\u001b[1;32m     42\u001b[0m     \u001b[38;5;28;01mfor\u001b[39;00m param \u001b[38;5;129;01min\u001b[39;00m \u001b[38;5;28mself\u001b[39m\u001b[38;5;241m.\u001b[39mparams:\n\u001b[0;32m---> 43\u001b[0m         param\u001b[38;5;241m.\u001b[39m_data \u001b[38;5;241m=\u001b[39m (\n\u001b[1;32m     44\u001b[0m             param\u001b[38;5;241m.\u001b[39m_data\n\u001b[1;32m     45\u001b[0m             \u001b[38;5;241m-\u001b[39m (\u001b[38;5;28mself\u001b[39m\u001b[38;5;241m.\u001b[39mlr \u001b[38;5;241m*\u001b[39m param\u001b[38;5;241m.\u001b[39mgrad)\n\u001b[1;32m     46\u001b[0m             \u001b[38;5;241m-\u001b[39m (\u001b[38;5;28mself\u001b[39m\u001b[38;5;241m.\u001b[39mlr \u001b[38;5;241m*\u001b[39m \u001b[38;5;28mself\u001b[39m\u001b[38;5;241m.\u001b[39mregulization \u001b[38;5;241m*\u001b[39m (param\u001b[38;5;241m.\u001b[39m_data \u001b[38;5;241m*\u001b[39m\u001b[38;5;241m*\u001b[39m \u001b[38;5;241m2\u001b[39m))\n\u001b[1;32m     47\u001b[0m         )\n",
      "\u001b[0;31mKeyboardInterrupt\u001b[0m: "
     ]
    }
   ],
   "source": [
    "for epoch in range(epochs):\n",
    "    print(f\"---------EPOCH: {epoch + 1}------------\")\n",
    "\n",
    "    loss = Tensor(0, requires_grad=True)\n",
    "    for sample in tqdm(range(0, X_train.shape[0])):\n",
    "        pred = model(X_train[sample])\n",
    "        loss = loss_func(pred.reshape((10, 1)), Tensor(y_train[sample].reshape(10, 1)))\n",
    "        loss.backward()\n",
    "        optim.step()\n",
    "        optim.zero_grad()\n",
    "\n",
    "    gc.collect()\n",
    "\n",
    "    with no_grad():\n",
    "        \n",
    "        loss = 0\n",
    "        preds = []\n",
    "        trues = np.argmax(y_test, axis=-1)\n",
    "\n",
    "        for sample in tqdm(range(0, X_test.shape[0])):\n",
    "            pred = model(X_test[sample])\n",
    "            preds.append(np.argmax(pred.data))\n",
    "            loss += loss_func(\n",
    "                pred.reshape((10, 1)), Tensor(y_test[sample].reshape(10, 1))\n",
    "            )\n",
    "    \n",
    "        accuracy = np.array((preds == trues)).astype(int)\n",
    "\n",
    "        pct_score = accuracy.mean() * 100\n",
    "\n",
    "        loss /= X_test.shape[0]\n",
    "\n",
    "        print(f\"TEST LOSS: {loss} - Accuracy: {pct_score}\")\n",
    "\n",
    "    gc.collect()"
   ]
  },
  {
   "cell_type": "code",
   "execution_count": 22,
   "metadata": {},
   "outputs": [
    {
     "name": "stderr",
     "output_type": "stream",
     "text": [
      "100%|██████████| 10000/10000 [00:11<00:00, 854.99it/s]\n"
     ]
    },
    {
     "name": "stdout",
     "output_type": "stream",
     "text": [
      "8.74\n"
     ]
    }
   ],
   "source": [
    "trues = np.argmax(y_test, axis=-1)\n",
    "\n",
    "preds = []\n",
    "for x in tqdm(range(0, X_test.shape[0])):\n",
    "    with no_grad():\n",
    "        pred = model(X_test[x])\n",
    "        preds.append(np.argmax(pred.data))\n",
    "\n",
    "accuracy = np.array((preds == trues)).astype(int)\n",
    "\n",
    "pct_score = accuracy.mean() * 100\n",
    "\n",
    "print(pct_score)\n"
   ]
  },
  {
   "cell_type": "code",
   "execution_count": null,
   "metadata": {},
   "outputs": [],
   "source": []
  }
 ],
 "metadata": {
  "kernelspec": {
   "display_name": "nea-78Vhzb2n-py3.12",
   "language": "python",
   "name": "python3"
  },
  "language_info": {
   "codemirror_mode": {
    "name": "ipython",
    "version": 3
   },
   "file_extension": ".py",
   "mimetype": "text/x-python",
   "name": "python",
   "nbconvert_exporter": "python",
   "pygments_lexer": "ipython3",
   "version": "3.12.7"
  }
 },
 "nbformat": 4,
 "nbformat_minor": 2
}
